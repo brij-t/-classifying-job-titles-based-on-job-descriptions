{
 "cells": [
  {
   "cell_type": "code",
   "execution_count": 1,
   "metadata": {
    "_cell_guid": "79c7e3d0-c299-4dcb-8224-4455121ee9b0",
    "_uuid": "d629ff2d2480ee46fbb7e2d37f6b5fab8052498a"
   },
   "outputs": [
    {
     "name": "stderr",
     "output_type": "stream",
     "text": [
      "C:\\Anaconda3\\envs\\tf_gpu1\\lib\\site-packages\\gensim\\utils.py:1197: UserWarning: detected Windows; aliasing chunkize to chunkize_serial\n",
      "  warnings.warn(\"detected Windows; aliasing chunkize to chunkize_serial\")\n"
     ]
    }
   ],
   "source": [
    "import pandas as pd\n",
    "import numpy as np\n",
    "from tqdm import tqdm\n",
    "tqdm.pandas(desc=\"progress-bar\")\n",
    "from gensim.models import Doc2Vec\n",
    "from sklearn import utils\n",
    "from sklearn.model_selection import train_test_split\n",
    "import gensim\n",
    "from sklearn.linear_model import LogisticRegression\n",
    "from gensim.models.doc2vec import TaggedDocument\n",
    "from gensim.test.test_doc2vec import ConcatenatedDoc2Vec\n",
    "import re\n",
    "import seaborn as sns\n",
    "import matplotlib.pyplot as plt\n"
   ]
  },
  {
   "cell_type": "code",
   "execution_count": 2,
   "metadata": {},
   "outputs": [
    {
     "data": {
      "text/html": [
       "<div>\n",
       "<style scoped>\n",
       "    .dataframe tbody tr th:only-of-type {\n",
       "        vertical-align: middle;\n",
       "    }\n",
       "\n",
       "    .dataframe tbody tr th {\n",
       "        vertical-align: top;\n",
       "    }\n",
       "\n",
       "    .dataframe thead th {\n",
       "        text-align: right;\n",
       "    }\n",
       "</style>\n",
       "<table border=\"1\" class=\"dataframe\">\n",
       "  <thead>\n",
       "    <tr style=\"text-align: right;\">\n",
       "      <th></th>\n",
       "      <th>Query</th>\n",
       "      <th>Description</th>\n",
       "    </tr>\n",
       "  </thead>\n",
       "  <tbody>\n",
       "    <tr>\n",
       "      <th>0</th>\n",
       "      <td>Administrative Assistant</td>\n",
       "      <td>This Administrative Assistant position is resp...</td>\n",
       "    </tr>\n",
       "    <tr>\n",
       "      <th>1</th>\n",
       "      <td>Administrative Assistant</td>\n",
       "      <td>ADMINISTRATIVE ASSISTANT Part Time The West Or...</td>\n",
       "    </tr>\n",
       "    <tr>\n",
       "      <th>2</th>\n",
       "      <td>Administrative Assistant</td>\n",
       "      <td>Administrative Assistant -  In Bus 26yrs Fashi...</td>\n",
       "    </tr>\n",
       "    <tr>\n",
       "      <th>3</th>\n",
       "      <td>Sales Representative</td>\n",
       "      <td>Are you ready for something new? Are you tired...</td>\n",
       "    </tr>\n",
       "    <tr>\n",
       "      <th>4</th>\n",
       "      <td>Customer Service Representative</td>\n",
       "      <td>Superior Staff Resources is currently seeking ...</td>\n",
       "    </tr>\n",
       "    <tr>\n",
       "      <th>5</th>\n",
       "      <td>Customer Service Representative</td>\n",
       "      <td>&lt;br /&gt;\\r&lt;span&gt;&lt;strong&gt;The Opportunity:&lt;/strong...</td>\n",
       "    </tr>\n",
       "    <tr>\n",
       "      <th>6</th>\n",
       "      <td>Java Developer</td>\n",
       "      <td>&lt;P&gt;&lt;STRONG&gt;As a member of the Web and Portal D...</td>\n",
       "    </tr>\n",
       "    <tr>\n",
       "      <th>7</th>\n",
       "      <td>Java Developer</td>\n",
       "      <td>&lt;BR&gt;\\r&lt;TABLE border=0 cellSpacing=0 cellPaddin...</td>\n",
       "    </tr>\n",
       "    <tr>\n",
       "      <th>8</th>\n",
       "      <td>Administrative Assistant</td>\n",
       "      <td>The main function of this role is to provide a...</td>\n",
       "    </tr>\n",
       "    <tr>\n",
       "      <th>9</th>\n",
       "      <td>Financial Analyst</td>\n",
       "      <td>Financial Analyst\\n Perform portfolio analysis...</td>\n",
       "    </tr>\n",
       "  </tbody>\n",
       "</table>\n",
       "</div>"
      ],
      "text/plain": [
       "                             Query  \\\n",
       "0         Administrative Assistant   \n",
       "1         Administrative Assistant   \n",
       "2         Administrative Assistant   \n",
       "3             Sales Representative   \n",
       "4  Customer Service Representative   \n",
       "5  Customer Service Representative   \n",
       "6                   Java Developer   \n",
       "7                   Java Developer   \n",
       "8         Administrative Assistant   \n",
       "9                Financial Analyst   \n",
       "\n",
       "                                         Description  \n",
       "0  This Administrative Assistant position is resp...  \n",
       "1  ADMINISTRATIVE ASSISTANT Part Time The West Or...  \n",
       "2  Administrative Assistant -  In Bus 26yrs Fashi...  \n",
       "3  Are you ready for something new? Are you tired...  \n",
       "4  Superior Staff Resources is currently seeking ...  \n",
       "5  <br />\\r<span><strong>The Opportunity:</strong...  \n",
       "6  <P><STRONG>As a member of the Web and Portal D...  \n",
       "7  <BR>\\r<TABLE border=0 cellSpacing=0 cellPaddin...  \n",
       "8  The main function of this role is to provide a...  \n",
       "9  Financial Analyst\\n Perform portfolio analysis...  "
      ]
     },
     "execution_count": 2,
     "metadata": {},
     "output_type": "execute_result"
    }
   ],
   "source": [
    "df = pd.read_csv('Top30.csv')\n",
    "df =df.drop(['Unnamed: 0','Unnamed: 0.1'],axis =1)\n",
    "df = df[pd.notnull(df['Description'])]\n",
    "df.head(10)"
   ]
  },
  {
   "cell_type": "code",
   "execution_count": 3,
   "metadata": {},
   "outputs": [
    {
     "data": {
      "text/plain": [
       "(72292, 2)"
      ]
     },
     "execution_count": 3,
     "metadata": {},
     "output_type": "execute_result"
    }
   ],
   "source": [
    "df.shape"
   ]
  },
  {
   "cell_type": "code",
   "execution_count": 4,
   "metadata": {},
   "outputs": [
    {
     "data": {
      "text/plain": [
       "19061303"
      ]
     },
     "execution_count": 4,
     "metadata": {},
     "output_type": "execute_result"
    }
   ],
   "source": [
    "df.index = range(72292)\n",
    "df['Description'].apply(lambda x: len(x.split(' '))).sum()"
   ]
  },
  {
   "cell_type": "code",
   "execution_count": 5,
   "metadata": {},
   "outputs": [
    {
     "data": {
      "image/png": "[encoded data removed]",
      "text/plain": [
       "<Figure size 864x288 with 1 Axes>"
      ]
     },
     "metadata": {
      "needs_background": "light"
     },
     "output_type": "display_data"
    }
   ],
   "source": [
    "#Exploring\n",
    "cnt_pro = df['Query'].value_counts()\n",
    "plt.figure(figsize=(12,4))\n",
    "sns.barplot(cnt_pro.index, cnt_pro.values, alpha=0.8)\n",
    "plt.ylabel('Number of Occurrences', fontsize=12)\n",
    "plt.xlabel('Job Title', fontsize=12)\n",
    "plt.xticks(rotation=90)\n",
    "plt.show();"
   ]
  },
  {
   "cell_type": "code",
   "execution_count": 7,
   "metadata": {},
   "outputs": [],
   "source": [
    "def print_complaint(index):\n",
    "    example = df[df.index == index][['Description', 'Query']].values[0]\n",
    "    if len(example) > 0:\n",
    "        print(example[0])\n",
    "        print('Query:', example[1])\n",
    "        \n"
   ]
  },
  {
   "cell_type": "code",
   "execution_count": 8,
   "metadata": {},
   "outputs": [
    {
     "name": "stdout",
     "output_type": "stream",
     "text": [
      "<p>GC Services, a top performer in the Teleservices and Collections industry, is seeking sales driven individuals to join our Business Development team at our Houston, TX and Elgin, IL locations. </p>\\r<p>&nbsp;</p>\\r<p>The ideal candidates will possess an entrepreneurial spirit and drive to sell the company as a top provider of call center solutions and executing sales strategies that result in securing service contracts.</p>\\r<p>&nbsp;</p>\\r<p><strong>Essential Duties and Responsibilities </strong>include the following. Other duties may be assigned. </p>\\r<p>&nbsp;</p>\\r<ul>\\r    <li>Generate leads through cold calling, networking and leveraging existing contact base.</li>\\r    <li>Performs sales presentations to prospective clients.</li>\\r    <li>Interacts with existing customers to increase sales of services.</li>\\r    <li>Research and gather data on marketing trends, competitive services and pricing.</li>\\r    <li>Build, manage and optimize B2B relationships</li>\\r    <li>Utilize consultative selling skills to understand and exceed customer&rsquo;s business needs.</li>\\r</ul>\n",
      "Query: Sales Representative\n"
     ]
    }
   ],
   "source": [
    "print_complaint(12)"
   ]
  },
  {
   "cell_type": "code",
   "execution_count": 9,
   "metadata": {},
   "outputs": [
    {
     "name": "stdout",
     "output_type": "stream",
     "text": [
      "Project Manager Job  \\r\\n<p>An Engineering & Construction Firm in Birmingham, AL is seeking a Sr. BIM Manager / VDC Integration Specialist for an immediate direct hire opportunity to lead multiple healthcare facility construction projects. The right candidate will have 5-10 years experience in Virtual Construction Integration using Navisworks Manage. </p><p><b>Responsibilities</b></p><ul><li>Lead teams to successful BIM construction collaboration efforts to include Construction Sequencing, data mining from the BIM models and costing/post construction </li><li>Coordinate with Architects, Engineers, subcontractors in the pre-construction and construction phase</li><li>Some creation or modification of BIM drawing as needed</li><li>Face to face client interaction</li></ul><p><b>Requirements</b></p><ul><li>Associates in Building Science, Construction Management, Civil Engineering, Architecture or related experience, Bachelors degree preferred</li><li>5+ years experience with BIM Technology and/or related design/graphics software on multiple construction projects</li><li>Working knowledge of Navisworks (a must have), Revit Architecture, MEP, Revit Structure, Autocad and/or other 3D Design Software</li><li>Proficiency in reading construction blueprints and interpreting documents for all design disciplines</li><li>BIM Management and/or Estimating Experience within the Healthcare Facility Construction Industry is a big plus</li><li>Team player with leadership attributes; Good time management skills and proven ability to meet tight dead lines; Drive, initiative and a positive attitude</li></ul><p><b>Benefits</b></p><ul><li>Excellent medical, dental benefits and 401K </li><li>Business casual dress while in the office;  when in front of clients a tie will be needed.</li><li>Salary range is $80,000 - $100,000 with an average of 8-10% company performance bonus</li><li>Growth opportunity available</li></ul> \\r\\n\\r\\n  Keywords: commercial buildings, buildings, retail, commercial, hospital, office, facilities, facility, high rise, gymnasium, casino, clinic, warehouse, courthouse, court house, mall, multi-story, dormatory, condominium, villas, shopping center, medical facilities, shopping centers, airports, sports complexesconstructionsenior estimator, junior estimator, construction estimator, electrical estimator, chief estimator, estimating manager, estimating department, cost estimator, cost estimating, construction estimator, project estimator, mechanical estimator, cost engineercost control, cost controls, control costs, cost specialist, cost engineer, cost analysiscivil engineering degree, degree in civil engineeringmechanical engineering degree, degree in mechanical engineeringconstruction project manager, director of project management, construction director, director of construction, construction project manager, vp of construction, president of construction, construction program manager, drafter, cad operator, cad technician, draftsperson, autocad drafter, cad drafterproject manager, project engineer, product engineer, product leader, project managementproject manager, project engineer, product engineer, product leader, project managementsenior estimator, junior estimator, construction estimator, electrical estimator, chief estimator, estimating manager, estimating department, cost estimator, cost estimating, construction estimator, project estimator, mechanical estimator, cost engineerhospital, medical, clinic, healthcare, health care, patient care, managed care, rehabilitation, blue cross, physician, therapy, hmo, hbo, medaphis, first data, construction supervisor, construction manager of constriction superintendent, construction engineer, supervised construction project manager, site project manager, construction site managerproject manage, project leader, project manager, project engineergnatt, pert, cpm, gert, project life cycle, wbs, work breakdown structure, project plan, project stages, project requirement, project implement, cost control system, project implement, revit, bim, autocad mep, 3d, navisworks, navis works, navis, coordinator, coordinate, pre-construction, blueprint, office, timberline, estimate, manage, autodesk, virtual design, virtual construction, healthcare, health care Project Manager Job\n",
      "Query: Project Manager\n"
     ]
    }
   ],
   "source": [
    "print_complaint(20)"
   ]
  },
  {
   "cell_type": "code",
   "execution_count": 10,
   "metadata": {},
   "outputs": [
    {
     "name": "stderr",
     "output_type": "stream",
     "text": [
      "C:\\Anaconda3\\envs\\tf_gpu1\\lib\\site-packages\\bs4\\__init__.py:272: UserWarning: \"b'TEST'\" looks like a filename, not markup. You should probably open this file and pass the filehandle into Beautiful Soup.\n",
      "  ' Beautiful Soup.' % markup)\n",
      "C:\\Anaconda3\\envs\\tf_gpu1\\lib\\site-packages\\bs4\\__init__.py:272: UserWarning: \"b'TEST'\" looks like a filename, not markup. You should probably open this file and pass the filehandle into Beautiful Soup.\n",
      "  ' Beautiful Soup.' % markup)\n",
      "C:\\Anaconda3\\envs\\tf_gpu1\\lib\\site-packages\\bs4\\__init__.py:272: UserWarning: \"b'TEST'\" looks like a filename, not markup. You should probably open this file and pass the filehandle into Beautiful Soup.\n",
      "  ' Beautiful Soup.' % markup)\n",
      "C:\\Anaconda3\\envs\\tf_gpu1\\lib\\site-packages\\bs4\\__init__.py:272: UserWarning: \"b'TEST'\" looks like a filename, not markup. You should probably open this file and pass the filehandle into Beautiful Soup.\n",
      "  ' Beautiful Soup.' % markup)\n",
      "C:\\Anaconda3\\envs\\tf_gpu1\\lib\\site-packages\\bs4\\__init__.py:272: UserWarning: \"b'TEST'\" looks like a filename, not markup. You should probably open this file and pass the filehandle into Beautiful Soup.\n",
      "  ' Beautiful Soup.' % markup)\n",
      "C:\\Anaconda3\\envs\\tf_gpu1\\lib\\site-packages\\bs4\\__init__.py:272: UserWarning: \"b'TEST'\" looks like a filename, not markup. You should probably open this file and pass the filehandle into Beautiful Soup.\n",
      "  ' Beautiful Soup.' % markup)\n",
      "C:\\Anaconda3\\envs\\tf_gpu1\\lib\\site-packages\\bs4\\__init__.py:272: UserWarning: \"b'TEST'\" looks like a filename, not markup. You should probably open this file and pass the filehandle into Beautiful Soup.\n",
      "  ' Beautiful Soup.' % markup)\n",
      "C:\\Anaconda3\\envs\\tf_gpu1\\lib\\site-packages\\bs4\\__init__.py:272: UserWarning: \"b'TEST'\" looks like a filename, not markup. You should probably open this file and pass the filehandle into Beautiful Soup.\n",
      "  ' Beautiful Soup.' % markup)\n",
      "C:\\Anaconda3\\envs\\tf_gpu1\\lib\\site-packages\\bs4\\__init__.py:272: UserWarning: \"b'TEST'\" looks like a filename, not markup. You should probably open this file and pass the filehandle into Beautiful Soup.\n",
      "  ' Beautiful Soup.' % markup)\n",
      "C:\\Anaconda3\\envs\\tf_gpu1\\lib\\site-packages\\bs4\\__init__.py:272: UserWarning: \"b'TEST'\" looks like a filename, not markup. You should probably open this file and pass the filehandle into Beautiful Soup.\n",
      "  ' Beautiful Soup.' % markup)\n"
     ]
    }
   ],
   "source": [
    "#Text Preprocessing\n",
    "from bs4 import BeautifulSoup\n",
    "def cleanText(text):\n",
    "    text = BeautifulSoup(text, \"lxml\").text\n",
    "    text = re.sub(r'\\|\\|\\|', r' ', text) \n",
    "    text = re.sub(r'http\\S+', r'<URL>', text)\n",
    "    text = text.lower()\n",
    "    text = text.replace('x', '')\n",
    "    return text\n",
    "df['Description'] = df['Description'].apply(cleanText)"
   ]
  },
  {
   "cell_type": "code",
   "execution_count": 11,
   "metadata": {},
   "outputs": [],
   "source": [
    "train, test = train_test_split(df, test_size=0.3, random_state=42)"
   ]
  },
  {
   "cell_type": "code",
   "execution_count": 12,
   "metadata": {},
   "outputs": [],
   "source": [
    "import nltk\n",
    "from nltk.corpus import stopwords\n",
    "def tokenize_text(text):\n",
    "    tokens = []\n",
    "    for sent in nltk.sent_tokenize(text):\n",
    "        for word in nltk.word_tokenize(sent):\n",
    "            if len(word) < 2:\n",
    "                continue\n",
    "            tokens.append(word.lower())\n",
    "    return tokens"
   ]
  },
  {
   "cell_type": "code",
   "execution_count": 13,
   "metadata": {},
   "outputs": [],
   "source": [
    "train_tagged = train.apply(\n",
    "    lambda r: TaggedDocument(words=tokenize_text(r['Description']), tags=[r.Query]), axis=1)\n",
    "test_tagged = test.apply(\n",
    "    lambda r: TaggedDocument(words=tokenize_text(r['Description']), tags=[r.Query]), axis=1)"
   ]
  },
  {
   "cell_type": "code",
   "execution_count": 14,
   "metadata": {},
   "outputs": [
    {
     "data": {
      "text/plain": [
       "TaggedDocument(words=['becker', 'underwood', 'inventing', 'the', 'future™', '\\\\r\\\\r\\\\rbecker', 'underwood', 'is', 'global', 'leader', 'in', 'seed', 'enhancements', 'landscape', 'horticulture', 'and', 'agriculture', 'our', 'products', 'are', 'marketed', 'all', 'over', 'the', 'world', 'in', '82', 'countries', 'since', 'our', 'founding', 'in', '1982', 'we', 'have', 'eperienced', 'tremendous', 'growth', 'through', 'product', 'development', 'and', 'acquisitions', 'we', 'currently', 'seek', '\\\\rreceptionist', '\\\\rthis', 'position', 'will', 'provide', 'professional', 'and', 'efficient', 'customer', 'service', 'on', 'the', 'phone', 'and', 'in', 'person', 'and', 'provide', 'administrative', 'support', 'to', 'internal', 'customers', '\\\\rprincipal', 'accountabilities', '\\\\rcustomer', 'service\\\\r\\\\r', 'answer', 'multi-line', 'telephone', 'and', 'transfer', 'as', 'required.\\\\r', 'greet', 'visitors', 'log', 'information', 'into', 'visitor', 'log', 'and', 'coordinate', 'escort.\\\\r', 'these', 'duties', 'account', 'for', 'approimately', '35', 'of', 'the', 'overall', 'job', 'responsibilities', '\\\\r\\\\radministration\\\\r\\\\r', 'coordinate', 'sort', 'and', 'distribute', 'mail.\\\\r', 'assist', 'others', 'with', 'scanning', 'and', 'filing.\\\\r', 'maintain', 'global', 'organizational', 'chart.\\\\r', 'maintain', 'mastercard', 'audit', '\\\\r', 'issue', 'time', 'clock', 'cards', 'for', 'production', 'workers.\\\\r', 'assist', 'all', 'departments', 'as', 'assigned', 'by', 'supervisor.\\\\r', 'maintain', 'new', 'hire', 'packets.\\\\r', 'these', 'duties', 'will', 'account', 'for', 'approimately', '45', 'of', 'the', 'overall', 'job', 'responsibilities', '\\\\r\\\\rcompany', 'vehicles\\\\r\\\\r', 'organize', 'use', 'of', 'company', 'vehicles', 'for', 'business', 'trip', 'usage.\\\\r', 'these', 'duties', 'will', 'account', 'for', 'approimately', '10', 'of', 'the', 'overall', 'job', 'responsibilities', '\\\\r\\\\rother', 'duties', 'as', 'assigned', 'by', 'supervisor.\\\\r\\\\r', 'these', 'duties', 'will', 'account', 'for', 'approimately', '10', 'of', 'the', 'overall', 'job', 'responsibilities', '\\\\r\\\\r'], tags=['Receptionist'])"
      ]
     },
     "execution_count": 14,
     "metadata": {},
     "output_type": "execute_result"
    }
   ],
   "source": [
    "train_tagged.values[30]"
   ]
  },
  {
   "cell_type": "code",
   "execution_count": 15,
   "metadata": {},
   "outputs": [],
   "source": [
    "import multiprocessing\n",
    "cores = multiprocessing.cpu_count()"
   ]
  },
  {
   "cell_type": "code",
   "execution_count": 16,
   "metadata": {},
   "outputs": [
    {
     "name": "stderr",
     "output_type": "stream",
     "text": [
      "100%|███████████████████████████████████████████████████████████████████████| 50604/50604 [00:00<00:00, 2984708.06it/s]\n"
     ]
    }
   ],
   "source": [
    "#Building a Vocabulary\n",
    "model_dbow = Doc2Vec(dm=0, vector_size=300, negative=5, hs=0, min_count=2, sample = 0, workers=cores)\n",
    "model_dbow.build_vocab([x for x in tqdm(train_tagged.values)])"
   ]
  },
  {
   "cell_type": "code",
   "execution_count": 17,
   "metadata": {},
   "outputs": [
    {
     "name": "stderr",
     "output_type": "stream",
     "text": [
      "100%|███████████████████████████████████████████████████████████████████████| 50604/50604 [00:00<00:00, 2814818.31it/s]\n",
      "100%|███████████████████████████████████████████████████████████████████████| 50604/50604 [00:00<00:00, 2982527.12it/s]\n",
      "100%|███████████████████████████████████████████████████████████████████████| 50604/50604 [00:00<00:00, 3621803.66it/s]\n",
      "100%|███████████████████████████████████████████████████████████████████████| 50604/50604 [00:00<00:00, 3381477.18it/s]\n",
      "100%|███████████████████████████████████████████████████████████████████████| 50604/50604 [00:00<00:00, 3622669.10it/s]\n",
      "100%|███████████████████████████████████████████████████████████████████████| 50604/50604 [00:00<00:00, 3382177.67it/s]\n",
      "100%|███████████████████████████████████████████████████████████████████████| 50604/50604 [00:00<00:00, 3373308.32it/s]\n",
      "100%|███████████████████████████████████████████████████████████████████████| 50604/50604 [00:00<00:00, 3622916.44it/s]\n",
      "100%|███████████████████████████████████████████████████████████████████████| 50604/50604 [00:00<00:00, 3168692.95it/s]\n",
      "100%|███████████████████████████████████████████████████████████████████████| 50604/50604 [00:00<00:00, 3372879.48it/s]\n",
      "100%|███████████████████████████████████████████████████████████████████████| 50604/50604 [00:00<00:00, 3167605.28it/s]\n",
      "100%|███████████████████████████████████████████████████████████████████████| 50604/50604 [00:00<00:00, 3903134.66it/s]\n",
      "100%|███████████████████████████████████████████████████████████████████████| 50604/50604 [00:00<00:00, 2984036.66it/s]\n",
      "100%|███████████████████████████████████████████████████████████████████████| 50604/50604 [00:00<00:00, 3625577.53it/s]\n",
      "100%|███████████████████████████████████████████████████████████████████████| 50604/50604 [00:00<00:00, 3382177.67it/s]\n",
      "100%|███████████████████████████████████████████████████████████████████████| 50604/50604 [00:00<00:00, 2670397.82it/s]\n",
      "100%|███████████████████████████████████████████████████████████████████████| 50604/50604 [00:00<00:00, 3890828.03it/s]\n",
      "100%|███████████████████████████████████████████████████████████████████████| 50604/50604 [00:00<00:00, 3382662.79it/s]\n",
      "100%|███████████████████████████████████████████████████████████████████████| 50604/50604 [00:00<00:00, 3618037.63it/s]\n",
      "100%|███████████████████████████████████████████████████████████████████████| 50604/50604 [00:00<00:00, 3616003.54it/s]\n",
      "100%|███████████████████████████████████████████████████████████████████████| 50604/50604 [00:00<00:00, 3605071.08it/s]\n",
      "100%|███████████████████████████████████████████████████████████████████████| 50604/50604 [00:00<00:00, 3901556.21it/s]\n",
      "100%|███████████████████████████████████████████████████████████████████████| 50604/50604 [00:00<00:00, 3389306.80it/s]\n",
      "100%|███████████████████████████████████████████████████████████████████████| 50604/50604 [00:00<00:00, 3605683.51it/s]\n",
      "100%|███████████████████████████████████████████████████████████████████████| 50604/50604 [00:00<00:00, 3610160.56it/s]\n",
      "100%|███████████████████████████████████████████████████████████████████████| 50604/50604 [00:00<00:00, 3380238.56it/s]\n",
      "100%|███████████████████████████████████████████████████████████████████████| 50604/50604 [00:00<00:00, 3169118.76it/s]\n",
      "100%|███████████████████████████████████████████████████████████████████████| 50604/50604 [00:00<00:00, 3382069.88it/s]\n",
      "100%|███████████████████████████████████████████████████████████████████████| 50604/50604 [00:00<00:00, 3623225.67it/s]\n",
      "100%|███████████████████████████████████████████████████████████████████████| 50604/50604 [00:00<00:00, 1751630.41it/s]\n"
     ]
    },
    {
     "name": "stdout",
     "output_type": "stream",
     "text": [
      "Wall time: 2min 41s\n"
     ]
    }
   ],
   "source": [
    "%%time\n",
    "for epoch in range(30):\n",
    "    model_dbow.train(utils.shuffle([x for x in tqdm(train_tagged.values)]), total_examples=len(train_tagged.values), epochs=1)\n",
    "    model_dbow.alpha -= 0.002\n",
    "    model_dbow.min_alpha = model_dbow.alpha"
   ]
  },
  {
   "cell_type": "code",
   "execution_count": 18,
   "metadata": {},
   "outputs": [],
   "source": [
    "#Building the Final Vector Feature for the Classifier\n",
    "def vec_for_learning(model, tagged_docs):\n",
    "    sents = tagged_docs.values\n",
    "    \n",
    "    targets, regressors = zip(*[(doc.tags[0], model.infer_vector(doc.words, steps=20)) for doc in sents])\n",
    "    return targets, regressors"
   ]
  },
  {
   "cell_type": "code",
   "execution_count": 19,
   "metadata": {},
   "outputs": [],
   "source": [
    "#Train the Logistic Regression Classifier.\n",
    "y_train, X_train = vec_for_learning(model_dbow, train_tagged)\n",
    "y_test, X_test = vec_for_learning(model_dbow, test_tagged)"
   ]
  },
  {
   "cell_type": "code",
   "execution_count": 20,
   "metadata": {},
   "outputs": [
    {
     "name": "stderr",
     "output_type": "stream",
     "text": [
      "C:\\Anaconda3\\envs\\tf_gpu1\\lib\\site-packages\\sklearn\\linear_model\\logistic.py:433: FutureWarning: Default solver will be changed to 'lbfgs' in 0.22. Specify a solver to silence this warning.\n",
      "  FutureWarning)\n",
      "C:\\Anaconda3\\envs\\tf_gpu1\\lib\\site-packages\\sklearn\\linear_model\\logistic.py:460: FutureWarning: Default multi_class will be changed to 'auto' in 0.22. Specify the multi_class option to silence this warning.\n",
      "  \"this warning.\", FutureWarning)\n"
     ]
    }
   ],
   "source": [
    "logreg = LogisticRegression(n_jobs=1, C=1e5)\n",
    "logreg.fit(X_train, y_train)\n",
    "y_pred = logreg.predict(X_test)"
   ]
  },
  {
   "cell_type": "code",
   "execution_count": 21,
   "metadata": {},
   "outputs": [
    {
     "name": "stdout",
     "output_type": "stream",
     "text": [
      "Testing accuracy 0.9034028033935817\n",
      "Testing F1 score: 0.9031240269775418\n"
     ]
    }
   ],
   "source": [
    "from sklearn.metrics import accuracy_score, f1_score\n",
    "print('Testing accuracy %s' % accuracy_score(y_test, y_pred))\n",
    "print('Testing F1 score: {}'.format(f1_score(y_test, y_pred, average='weighted')))"
   ]
  },
  {
   "cell_type": "code",
   "execution_count": 22,
   "metadata": {},
   "outputs": [
    {
     "name": "stderr",
     "output_type": "stream",
     "text": [
      "100%|███████████████████████████████████████████████████████████████████████| 50604/50604 [00:00<00:00, 3382770.62it/s]\n"
     ]
    }
   ],
   "source": [
    "#Distributed Memory (DM)\n",
    "model_dmm = Doc2Vec(dm=1, dm_mean=1, vector_size=300, window=10, negative=5, min_count=1, workers=5, alpha=0.065, min_alpha=0.065)\n",
    "model_dmm.build_vocab([x for x in tqdm(train_tagged.values)])"
   ]
  },
  {
   "cell_type": "code",
   "execution_count": 23,
   "metadata": {},
   "outputs": [
    {
     "name": "stderr",
     "output_type": "stream",
     "text": [
      "100%|███████████████████████████████████████████████████████████████████████| 50604/50604 [00:00<00:00, 2818893.15it/s]\n",
      "100%|███████████████████████████████████████████████████████████████████████| 50604/50604 [00:00<00:00, 3382501.07it/s]\n",
      "100%|███████████████████████████████████████████████████████████████████████| 50604/50604 [00:00<00:00, 3623225.67it/s]\n",
      "100%|███████████████████████████████████████████████████████████████████████| 50604/50604 [00:00<00:00, 2989416.33it/s]\n",
      "100%|███████████████████████████████████████████████████████████████████████| 50604/50604 [00:00<00:00, 3169544.68it/s]\n",
      "100%|███████████████████████████████████████████████████████████████████████| 50604/50604 [00:00<00:00, 3901699.66it/s]\n",
      "100%|███████████████████████████████████████████████████████████████████████| 50604/50604 [00:00<00:00, 3166990.85it/s]\n",
      "100%|███████████████████████████████████████████████████████████████████████| 50604/50604 [00:00<00:00, 3162178.15it/s]\n",
      "100%|███████████████████████████████████████████████████████████████████████| 50604/50604 [00:00<00:00, 2818556.25it/s]\n",
      "100%|███████████████████████████████████████████████████████████████████████| 50604/50604 [00:00<00:00, 3386116.58it/s]\n",
      "100%|███████████████████████████████████████████████████████████████████████| 50604/50604 [00:00<00:00, 3179944.26it/s]\n",
      "100%|███████████████████████████████████████████████████████████████████████| 50604/50604 [00:00<00:00, 2985001.89it/s]\n",
      "100%|███████████████████████████████████████████████████████████████████████| 50604/50604 [00:00<00:00, 2979345.31it/s]\n",
      "100%|███████████████████████████████████████████████████████████████████████| 50604/50604 [00:00<00:00, 2813549.66it/s]\n",
      "100%|███████████████████████████████████████████████████████████████████████| 50604/50604 [00:00<00:00, 2984875.96it/s]\n",
      "100%|███████████████████████████████████████████████████████████████████████| 50604/50604 [00:00<00:00, 3171344.29it/s]\n",
      "100%|███████████████████████████████████████████████████████████████████████| 50604/50604 [00:00<00:00, 2973293.54it/s]\n",
      "100%|███████████████████████████████████████████████████████████████████████| 50604/50604 [00:00<00:00, 3171012.63it/s]\n",
      "100%|███████████████████████████████████████████████████████████████████████| 50604/50604 [00:00<00:00, 3165007.38it/s]\n",
      "100%|███████████████████████████████████████████████████████████████████████| 50604/50604 [00:00<00:00, 2983575.25it/s]\n",
      "100%|███████████████████████████████████████████████████████████████████████| 50604/50604 [00:00<00:00, 2536128.09it/s]\n",
      "100%|███████████████████████████████████████████████████████████████████████| 50604/50604 [00:00<00:00, 3163497.83it/s]\n",
      "100%|███████████████████████████████████████████████████████████████████████| 50604/50604 [00:00<00:00, 2823993.93it/s]\n",
      "100%|███████████████████████████████████████████████████████████████████████| 50604/50604 [00:00<00:00, 2817284.23it/s]\n",
      "100%|███████████████████████████████████████████████████████████████████████| 50604/50604 [00:00<00:00, 3167794.39it/s]\n",
      "100%|███████████████████████████████████████████████████████████████████████| 50604/50604 [00:00<00:00, 2661123.63it/s]\n",
      "100%|███████████████████████████████████████████████████████████████████████| 50604/50604 [00:00<00:00, 2814892.97it/s]\n",
      "100%|███████████████████████████████████████████████████████████████████████| 50604/50604 [00:00<00:00, 2663327.51it/s]\n",
      "100%|███████████████████████████████████████████████████████████████████████| 50604/50604 [00:00<00:00, 3163167.80it/s]\n",
      "100%|███████████████████████████████████████████████████████████████████████| 50604/50604 [00:00<00:00, 2812021.35it/s]\n"
     ]
    },
    {
     "name": "stdout",
     "output_type": "stream",
     "text": [
      "Wall time: 3min 53s\n"
     ]
    }
   ],
   "source": [
    "%%time\n",
    "for epoch in range(30):\n",
    "    model_dmm.train(utils.shuffle([x for x in tqdm(train_tagged.values)]), total_examples=len(train_tagged.values), epochs=1)\n",
    "    model_dmm.alpha -= 0.002\n",
    "    model_dmm.min_alpha = model_dmm.alpha"
   ]
  },
  {
   "cell_type": "code",
   "execution_count": 24,
   "metadata": {},
   "outputs": [],
   "source": [
    "#Train the Logistic Regression Classifier\n",
    "y_train, X_train = vec_for_learning(model_dmm, train_tagged)\n",
    "y_test, X_test = vec_for_learning(model_dmm, test_tagged)"
   ]
  },
  {
   "cell_type": "code",
   "execution_count": 25,
   "metadata": {},
   "outputs": [
    {
     "name": "stderr",
     "output_type": "stream",
     "text": [
      "C:\\Anaconda3\\envs\\tf_gpu1\\lib\\site-packages\\sklearn\\linear_model\\logistic.py:433: FutureWarning: Default solver will be changed to 'lbfgs' in 0.22. Specify a solver to silence this warning.\n",
      "  FutureWarning)\n",
      "C:\\Anaconda3\\envs\\tf_gpu1\\lib\\site-packages\\sklearn\\linear_model\\logistic.py:460: FutureWarning: Default multi_class will be changed to 'auto' in 0.22. Specify the multi_class option to silence this warning.\n",
      "  \"this warning.\", FutureWarning)\n"
     ]
    },
    {
     "name": "stdout",
     "output_type": "stream",
     "text": [
      "Testing accuracy 0.1383253412025083\n",
      "Testing F1 score: 0.1161899573160096\n"
     ]
    }
   ],
   "source": [
    "logreg.fit(X_train, y_train)\n",
    "y_pred = logreg.predict(X_test)\n",
    "print('Testing accuracy %s' % accuracy_score(y_test, y_pred))\n",
    "print('Testing F1 score: {}'.format(f1_score(y_test, y_pred, average='weighted')))"
   ]
  },
  {
   "cell_type": "code",
   "execution_count": 26,
   "metadata": {},
   "outputs": [],
   "source": [
    "#Model Pairing First, we delete temporary training data to free up RAM.\n",
    "model_dbow.delete_temporary_training_data(keep_doctags_vectors=True, keep_inference=True)\n",
    "model_dmm.delete_temporary_training_data(keep_doctags_vectors=True, keep_inference=True)"
   ]
  },
  {
   "cell_type": "code",
   "execution_count": 27,
   "metadata": {},
   "outputs": [],
   "source": [
    "#Concatenate two models.\n",
    "from gensim.test.test_doc2vec import ConcatenatedDoc2Vec\n",
    "new_model = ConcatenatedDoc2Vec([model_dbow, model_dmm])"
   ]
  },
  {
   "cell_type": "code",
   "execution_count": 28,
   "metadata": {},
   "outputs": [],
   "source": [
    "#Building feature vectors.\n",
    "def get_vectors(model, tagged_docs):\n",
    "    sents = tagged_docs.values\n",
    "    targets, regressors = zip(*[(doc.tags[0], model.infer_vector(doc.words, steps=20)) for doc in sents])\n",
    "    return targets, regressors"
   ]
  },
  {
   "cell_type": "code",
   "execution_count": 29,
   "metadata": {},
   "outputs": [
    {
     "name": "stderr",
     "output_type": "stream",
     "text": [
      "C:\\Anaconda3\\envs\\tf_gpu1\\lib\\site-packages\\sklearn\\linear_model\\logistic.py:433: FutureWarning: Default solver will be changed to 'lbfgs' in 0.22. Specify a solver to silence this warning.\n",
      "  FutureWarning)\n",
      "C:\\Anaconda3\\envs\\tf_gpu1\\lib\\site-packages\\sklearn\\linear_model\\logistic.py:460: FutureWarning: Default multi_class will be changed to 'auto' in 0.22. Specify the multi_class option to silence this warning.\n",
      "  \"this warning.\", FutureWarning)\n",
      "C:\\Anaconda3\\envs\\tf_gpu1\\lib\\site-packages\\sklearn\\svm\\base.py:931: ConvergenceWarning: Liblinear failed to converge, increase the number of iterations.\n",
      "  \"the number of iterations.\", ConvergenceWarning)\n"
     ]
    },
    {
     "name": "stdout",
     "output_type": "stream",
     "text": [
      "Testing accuracy 0.8791036517890077\n",
      "Testing F1 score: 0.8787076378900566\n"
     ]
    }
   ],
   "source": [
    "#Train the Logistic Regression\n",
    "y_train, X_train = get_vectors(new_model, train_tagged)\n",
    "y_test, X_test = get_vectors(new_model, test_tagged)\n",
    "logreg.fit(X_train, y_train)\n",
    "y_pred = logreg.predict(X_test)\n",
    "print('Testing accuracy %s' % accuracy_score(y_test, y_pred))\n",
    "print('Testing F1 score: {}'.format(f1_score(y_test, y_pred, average='weighted')))"
   ]
  },
  {
   "cell_type": "code",
   "execution_count": 37,
   "metadata": {},
   "outputs": [],
   "source": [
    "df_X_train = pd.DataFrame(list(X_train))"
   ]
  },
  {
   "cell_type": "code",
   "execution_count": 39,
   "metadata": {},
   "outputs": [],
   "source": [
    "df_X_test = pd.DataFrame(list(X_test))"
   ]
  },
  {
   "cell_type": "code",
   "execution_count": 40,
   "metadata": {},
   "outputs": [],
   "source": [
    "df_X_train['target'] = list(y_train)\n",
    "df_X_test['target'] = list(y_test)"
   ]
  },
  {
   "cell_type": "code",
   "execution_count": 42,
   "metadata": {},
   "outputs": [],
   "source": [
    "df_X_train.to_csv('trainingData.csv')\n",
    "df_X_test.to_csv('testingData.csv')"
   ]
  },
  {
   "cell_type": "code",
   "execution_count": null,
   "metadata": {},
   "outputs": [],
   "source": []
  }
 ],
 "metadata": {
  "kernelspec": {
   "display_name": "Python 3",
   "language": "python",
   "name": "python3"
  },
  "language_info": {
   "codemirror_mode": {
    "name": "ipython",
    "version": 3
   },
   "file_extension": ".py",
   "mimetype": "text/x-python",
   "name": "python",
   "nbconvert_exporter": "python",
   "pygments_lexer": "ipython3",
   "version": "3.6.8"
  }
 },
 "nbformat": 4,
 "nbformat_minor": 1
}
