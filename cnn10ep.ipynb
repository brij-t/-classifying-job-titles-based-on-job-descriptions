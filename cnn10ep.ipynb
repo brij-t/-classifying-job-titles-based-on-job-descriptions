{
 "cells": [
  {
   "cell_type": "code",
   "execution_count": 14,
   "metadata": {},
   "outputs": [
    {
     "name": "stdout",
     "output_type": "stream",
     "text": [
      "[nltk_data] Error loading stopwords: <urlopen error [Errno -3]\n",
      "[nltk_data]     Temporary failure in name resolution>\n"
     ]
    }
   ],
   "source": [
    "from keras.models import Sequential\n",
    "from keras.layers import Conv1D, GlobalMaxPooling1D, Embedding, LSTM, MaxPooling1D,BatchNormalization,GRU, SpatialDropout1D\n",
    "from keras.layers.core import Dense, Dropout, Activation\n",
    "from keras.preprocessing.text import Tokenizer\n",
    "from keras import metrics, regularizers\n",
    "from keras.preprocessing import sequence\n",
    "import pandas as pd\n",
    "import numpy as np \n",
    "import pandas as pd\n",
    "import matplotlib.pyplot as plt\n",
    "import seaborn as sns\n",
    "from keras.preprocessing.text import Tokenizer\n",
    "from keras.preprocessing.sequence import pad_sequences\n",
    "from keras.models import Sequential\n",
    "from keras.layers import Dense, Embedding, LSTM, SpatialDropout1D\n",
    "from sklearn.model_selection import train_test_split\n",
    "from keras.utils.np_utils import to_categorical\n",
    "from keras.callbacks import EarlyStopping\n",
    "from keras.layers import Dropout\n",
    "import re\n",
    "import nltk\n",
    "nltk.download('stopwords')\n",
    "from nltk.corpus import stopwords\n",
    "from nltk import word_tokenize\n",
    "STOPWORDS = set(stopwords.words('english'))\n",
    "from sklearn.model_selection import train_test_split\n",
    "from sklearn.preprocessing import LabelBinarizer"
   ]
  },
  {
   "cell_type": "code",
   "execution_count": 15,
   "metadata": {
    "_cell_guid": "b1076dfc-b9ad-4769-8c92-a6c4dae69d19",
    "_uuid": "8f2839f25d086af736a60e9eeb907d3b93b6e0e5"
   },
   "outputs": [
    {
     "name": "stdout",
     "output_type": "stream",
     "text": [
      "['Top30.csv']\n"
     ]
    }
   ],
   "source": [
    "# This Python 3 environment comes with many helpful analytics libraries installed\n",
    "# It is defined by the kaggle/python docker image: https://github.com/kaggle/docker-python\n",
    "# For example, here's several helpful packages to load in \n",
    "\n",
    "import numpy as np # linear algebra\n",
    "import pandas as pd # data processing, CSV file I/O (e.g. pd.read_csv)\n",
    "\n",
    "# Input data files are available in the \"../input/\" directory.\n",
    "# For example, running this (by clicking run or pressing Shift+Enter) will list the files in the input directory\n",
    "\n",
    "import os\n",
    "print(os.listdir(\"../input\"))\n",
    "\n",
    "# Any results you write to the current directory are saved as output."
   ]
  },
  {
   "cell_type": "code",
   "execution_count": 16,
   "metadata": {
    "_cell_guid": "79c7e3d0-c299-4dcb-8224-4455121ee9b0",
    "_uuid": "d629ff2d2480ee46fbb7e2d37f6b5fab8052498a"
   },
   "outputs": [
    {
     "name": "stdout",
     "output_type": "stream",
     "text": [
      "[name: \"/device:CPU:0\"\n",
      "device_type: \"CPU\"\n",
      "memory_limit: 268435456\n",
      "locality {\n",
      "}\n",
      "incarnation: 15047166100564551706\n",
      ", name: \"/device:XLA_CPU:0\"\n",
      "device_type: \"XLA_CPU\"\n",
      "memory_limit: 17179869184\n",
      "locality {\n",
      "}\n",
      "incarnation: 8868874580649999657\n",
      "physical_device_desc: \"device: XLA_CPU device\"\n",
      ", name: \"/device:XLA_GPU:0\"\n",
      "device_type: \"XLA_GPU\"\n",
      "memory_limit: 17179869184\n",
      "locality {\n",
      "}\n",
      "incarnation: 6374709817177748566\n",
      "physical_device_desc: \"device: XLA_GPU device\"\n",
      ", name: \"/device:GPU:0\"\n",
      "device_type: \"GPU\"\n",
      "memory_limit: 15882446439\n",
      "locality {\n",
      "  bus_id: 1\n",
      "  links {\n",
      "  }\n",
      "}\n",
      "incarnation: 2862892387606579713\n",
      "physical_device_desc: \"device: 0, name: Tesla P100-PCIE-16GB, pci bus id: 0000:00:04.0, compute capability: 6.0\"\n",
      "]\n"
     ]
    }
   ],
   "source": [
    "from keras.models import Sequential\n",
    "# from keras.layers import Conv1D, GlobalMaxPooling1D, Embedding, LSTM\n",
    "from keras.layers.core import Dense, Dropout, Activation\n",
    "from keras.preprocessing.text import Tokenizer\n",
    "from keras import metrics, regularizers\n",
    "from keras.preprocessing import sequence\n",
    "import pandas as pd\n",
    "\n",
    "from keras.layers import Conv1D, MaxPooling1D, Embedding, Dropout\n",
    "\n",
    "from sklearn.model_selection import train_test_split\n",
    "from sklearn.preprocessing import LabelBinarizer\n",
    "\n",
    "\n",
    "\n",
    "import keras\n",
    "from tensorflow.python.client import device_lib\n",
    "\n",
    "print(device_lib.list_local_devices())\n",
    "import numpy as np\n",
    "import pandas as pd\n",
    "from collections import defaultdict\n",
    "import re\n",
    "\n",
    "\n",
    "import sys\n",
    "import os\n",
    "\n",
    "from keras.preprocessing.text import Tokenizer\n",
    "from keras.preprocessing.sequence import pad_sequences\n",
    "from keras.utils.np_utils import to_categorical\n",
    "\n",
    "from keras.layers import Embedding\n",
    "from keras.layers import Dense, Input, Flatten\n",
    "from keras.layers import Conv1D, MaxPooling1D, Embedding, Dropout\n",
    "from keras.models import Model\n",
    "from sklearn.metrics import classification_report\n",
    "\n",
    "from keras.models import Sequential\n",
    "from keras.layers.convolutional import Conv3D\n",
    "from keras.layers.convolutional_recurrent import ConvLSTM2D\n",
    "from keras.layers.normalization import BatchNormalization\n",
    "import numpy as np\n",
    "from matplotlib import pyplot as plt\n",
    "from keras.layers import Dense, Embedding, LSTM, GRU\n",
    "\n",
    "# MAX_SEQUENCE_LENGTH = 1000\n",
    "# MAX_NB_WORDS = 200000\n",
    "# EMBEDDING_DIM = 100\n",
    "# VALIDATION_SPLIT = 0.2\n"
   ]
  },
  {
   "cell_type": "code",
   "execution_count": 17,
   "metadata": {},
   "outputs": [],
   "source": [
    "data = pd.read_csv('../input/Top30.csv')"
   ]
  },
  {
   "cell_type": "code",
   "execution_count": 18,
   "metadata": {},
   "outputs": [],
   "source": [
    "data = data.reset_index(drop=True)\n",
    "REPLACE_BY_SPACE_RE = re.compile('[/(){}\\[\\]\\|@,;]')\n",
    "BAD_SYMBOLS_RE = re.compile('[^0-9a-z #+_]')\n",
    "STOPWORDS = set(stopwords.words('english'))\n",
    "\n",
    "def clean_text(text):\n",
    "    \"\"\"\n",
    "        text: a string\n",
    "        \n",
    "        return: modified initial string\n",
    "    \"\"\"\n",
    "    text = text.lower() # lowercase text\n",
    "    text = REPLACE_BY_SPACE_RE.sub(' ', text) # replace REPLACE_BY_SPACE_RE symbols by space in text. substitute the matched string in REPLACE_BY_SPACE_RE with space.\n",
    "    text = BAD_SYMBOLS_RE.sub('', text) # remove symbols which are in BAD_SYMBOLS_RE from text. substitute the matched string in BAD_SYMBOLS_RE with nothing. \n",
    "    text = text.replace('x', '')\n",
    "#    text = re.sub(r'\\W+', '', text)\n",
    "    text = ' '.join(word for word in text.split() if word not in STOPWORDS) # remove stopwors from text\n",
    "    return text\n",
    "data['Description'] = data['Description'].apply(clean_text)\n",
    "data['Query'] = data['Query'].apply(clean_text)"
   ]
  },
  {
   "cell_type": "code",
   "execution_count": 19,
   "metadata": {},
   "outputs": [],
   "source": [
    "#Split the dataset to Training and Test subsets (90/10)\n",
    "from sklearn.model_selection import train_test_split\n",
    "train, test = train_test_split(data, test_size = 0.2, random_state = 17) #random_state = None\n",
    "\n",
    "train_descs = train['Description']\n",
    "train_labels = train['Query']\n",
    " \n",
    "test_descs = test['Description']\n",
    "test_labels = test['Query']\n",
    "\n",
    "\n",
    "# X_train, X_val, y_train, y_val  = train_test_split(train_descs, train_labels, test_size=0.2, random_state=17)"
   ]
  },
  {
   "cell_type": "code",
   "execution_count": 20,
   "metadata": {},
   "outputs": [
    {
     "data": {
      "text/plain": [
       "(72292, 4)"
      ]
     },
     "execution_count": 20,
     "metadata": {},
     "output_type": "execute_result"
    }
   ],
   "source": [
    "data.shape"
   ]
  },
  {
   "cell_type": "code",
   "execution_count": 24,
   "metadata": {},
   "outputs": [],
   "source": [
    "# Model Parameters\n",
    "vocab_size = 1000\n",
    "\n",
    "sequences_length = 1200\n",
    "\n",
    "embedding_dimensionality = 64 #possibly low??\n",
    "max_features = 2000 #equal to vocab_size\n",
    "\n",
    "num_labels = len(train_labels.unique())\n",
    "batch_size = 32\n",
    "nb_epoch = 5\n",
    "\n",
    "nof_filters = 200\n",
    "kernel_size = 16\n",
    "\n",
    "hidden_dims = 512"
   ]
  },
  {
   "cell_type": "code",
   "execution_count": 22,
   "metadata": {},
   "outputs": [],
   "source": [
    "# Convert Texts to Numeric Vectors for Input\n",
    "tokenizer = Tokenizer(num_words = vocab_size)\n",
    "tokenizer.fit_on_texts(train_descs)\n",
    "\n",
    "x_train = tokenizer.texts_to_sequences(train_descs)\n",
    "x_test = tokenizer.texts_to_sequences(test_descs)\n",
    "\n",
    "x_train = sequence.pad_sequences(x_train, maxlen = sequences_length, padding = 'post')\n",
    "x_test = sequence.pad_sequences(x_test, maxlen = sequences_length, padding = 'post')\n",
    "\n",
    "encoder = LabelBinarizer()\n",
    "encoder.fit(train_labels)\n",
    "y_train = encoder.transform(train_labels)\n",
    "y_test = encoder.transform(test_labels)"
   ]
  },
  {
   "cell_type": "code",
   "execution_count": 40,
   "metadata": {},
   "outputs": [
    {
     "name": "stdout",
     "output_type": "stream",
     "text": [
      "_________________________________________________________________\n",
      "Layer (type)                 Output Shape              Param #   \n",
      "=================================================================\n",
      "embedding_9 (Embedding)      (None, 1200, 64)          128000    \n",
      "_________________________________________________________________\n",
      "dropout_9 (Dropout)          (None, 1200, 64)          0         \n",
      "_________________________________________________________________\n",
      "conv1d_17 (Conv1D)           (None, 1200, 64)          81984     \n",
      "_________________________________________________________________\n",
      "max_pooling1d_17 (MaxPooling (None, 600, 64)           0         \n",
      "_________________________________________________________________\n",
      "conv1d_18 (Conv1D)           (None, 600, 32)           20512     \n",
      "_________________________________________________________________\n",
      "max_pooling1d_18 (MaxPooling (None, 300, 32)           0         \n",
      "_________________________________________________________________\n",
      "flatten_9 (Flatten)          (None, 9600)              0         \n",
      "_________________________________________________________________\n",
      "dense_17 (Dense)             (None, 256)               2457856   \n",
      "_________________________________________________________________\n",
      "dense_18 (Dense)             (None, 30)                7710      \n",
      "=================================================================\n",
      "Total params: 2,696,062\n",
      "Trainable params: 2,696,062\n",
      "Non-trainable params: 0\n",
      "_________________________________________________________________\n",
      "None\n",
      "Train on 57833 samples, validate on 14459 samples\n",
      "Epoch 1/10\n",
      "57833/57833 [==============================] - 16s 274us/step - loss: 12.2796 - acc: 0.5129 - val_loss: 4.6077 - val_acc: 0.5909\n",
      "Epoch 2/10\n",
      "57833/57833 [==============================] - 14s 248us/step - loss: 4.2777 - acc: 0.6835 - val_loss: 4.0705 - val_acc: 0.7380\n",
      "Epoch 3/10\n",
      "57833/57833 [==============================] - 14s 249us/step - loss: 3.9129 - acc: 0.7739 - val_loss: 3.9281 - val_acc: 0.7838\n",
      "Epoch 4/10\n",
      "57833/57833 [==============================] - 14s 249us/step - loss: 3.7844 - acc: 0.8178 - val_loss: 3.7074 - val_acc: 0.8243\n",
      "Epoch 5/10\n",
      "57833/57833 [==============================] - 14s 248us/step - loss: 3.6432 - acc: 0.8390 - val_loss: 3.7675 - val_acc: 0.8434\n",
      "Epoch 6/10\n",
      "57833/57833 [==============================] - 14s 248us/step - loss: 3.5511 - acc: 0.8756 - val_loss: 3.5083 - val_acc: 0.8781\n",
      "Epoch 7/10\n",
      "57833/57833 [==============================] - 14s 248us/step - loss: 3.5659 - acc: 0.8847 - val_loss: 3.4988 - val_acc: 0.8750\n",
      "Epoch 8/10\n",
      "57833/57833 [==============================] - 14s 248us/step - loss: 3.3617 - acc: 0.8993 - val_loss: 3.4712 - val_acc: 0.8789\n",
      "Epoch 9/10\n",
      "57833/57833 [==============================] - 14s 248us/step - loss: 3.3091 - acc: 0.9062 - val_loss: 3.3731 - val_acc: 0.8909\n",
      "Epoch 10/10\n",
      "57833/57833 [==============================] - 14s 248us/step - loss: 3.2552 - acc: 0.9155 - val_loss: 3.3454 - val_acc: 0.8991\n"
     ]
    }
   ],
   "source": [
    "keep_prob = 0.8\n",
    "modell = Sequential()\n",
    "modell.add(Embedding(max_features, embedding_dimensionality, input_length = 1200))\n",
    "modell.add(Dropout(rate = 1 - keep_prob))\n",
    "modell.add(Conv1D(filters=64, kernel_size=20, padding='same', activation='relu'))\n",
    "modell.add(MaxPooling1D(pool_size=2))\n",
    "modell.add(Conv1D(filters=32, kernel_size=10, padding='same', activation='relu'))\n",
    "modell.add(MaxPooling1D(pool_size=2))\n",
    "modell.add(Flatten())\n",
    "modell.add(Dense(256, activation='relu', kernel_regularizer=regularizers.l1(0.01)))\n",
    "modell.add(Dense(30, activation='softmax'))\n",
    "modell.compile(loss='categorical_crossentropy', optimizer='adam', metrics=['accuracy'])\n",
    "print(modell.summary())\n",
    "hist =modell.fit(x_train, y_train, validation_data=(x_test ,y_test) ,epochs=10, batch_size=128)\n",
    "\n"
   ]
  },
  {
   "cell_type": "code",
   "execution_count": 34,
   "metadata": {},
   "outputs": [
    {
     "name": "stdout",
     "output_type": "stream",
     "text": [
      "14459/14459 [==============================] - 1s 98us/step\n",
      "\n",
      "Test categorical_crossentropy: 3.2664938251031814\n",
      "Categorical accuracy: 0.9005463724726999\n"
     ]
    }
   ],
   "source": [
    "score = modell.evaluate(x_test, y_test, batch_size = batch_size, verbose = True)\n",
    " \n",
    "print('\\nTest categorical_crossentropy:', score[0])\n",
    "print('Categorical accuracy:', score[1])\n"
   ]
  },
  {
   "cell_type": "code",
   "execution_count": 36,
   "metadata": {},
   "outputs": [
    {
     "name": "stdout",
     "output_type": "stream",
     "text": [
      "Accuracy\n",
      " 0.9005463725015561\n",
      "classification_score\n",
      "               precision    recall  f1-score   support\n",
      "\n",
      "           0       0.81      0.75      0.78       384\n",
      "           1       0.59      0.96      0.73       259\n",
      "           2       0.81      0.83      0.82       873\n",
      "           3       0.98      0.76      0.86       519\n",
      "           4       0.85      0.84      0.84       475\n",
      "           5       0.94      0.92      0.93       365\n",
      "           6       0.90      0.92      0.91       818\n",
      "           7       1.00      1.00      1.00       380\n",
      "           8       0.72      0.70      0.71       315\n",
      "           9       0.83      0.82      0.82       367\n",
      "          10       1.00      1.00      1.00       721\n",
      "          11       0.71      0.88      0.78       280\n",
      "          12       1.00      1.00      1.00       414\n",
      "          13       0.91      0.92      0.92       373\n",
      "          14       0.95      0.88      0.91       401\n",
      "          15       1.00      1.00      1.00       647\n",
      "          16       0.95      0.90      0.92       323\n",
      "          17       0.89      0.84      0.87       603\n",
      "          18       0.69      0.61      0.65       366\n",
      "          19       0.95      0.94      0.95       348\n",
      "          20       0.99      0.97      0.98       545\n",
      "          21       1.00      1.00      1.00       628\n",
      "          22       1.00      1.00      1.00       480\n",
      "          23       1.00      1.00      1.00       616\n",
      "          24       0.99      1.00      0.99       346\n",
      "          25       0.89      0.83      0.86       790\n",
      "          26       1.00      1.00      1.00       482\n",
      "          27       0.81      0.77      0.79       451\n",
      "          28       0.76      0.89      0.82       507\n",
      "          29       0.93      0.98      0.95       383\n",
      "\n",
      "    accuracy                           0.90     14459\n",
      "   macro avg       0.89      0.90      0.89     14459\n",
      "weighted avg       0.91      0.90      0.90     14459\n",
      "\n"
     ]
    }
   ],
   "source": [
    "from sklearn.metrics import confusion_matrix, classification_report,accuracy_score\n",
    "import numpy as np\n",
    "predicted = modell.predict(x_test)\n",
    "pred_1 = np.argmax(predicted, axis = 1)\n",
    "y_test_1 = np.argmax(y_test,axis = 1)\n",
    "#np.mean(pred_1 == y_test_1,axis=1)\n",
    "print('Accuracy\\n',accuracy_score(pred_1, y_test_1))\n",
    "#print('Confusion Matrix\\n',confusion_matrix(predicted, y_test_1))\n",
    "print('classification_score\\n',classification_report(pred_1, y_test_1))"
   ]
  },
  {
   "cell_type": "code",
   "execution_count": null,
   "metadata": {},
   "outputs": [],
   "source": []
  },
  {
   "cell_type": "code",
   "execution_count": 37,
   "metadata": {},
   "outputs": [
    {
     "name": "stdout",
     "output_type": "stream",
     "text": [
      "dict_keys(['val_loss', 'val_acc', 'loss', 'acc'])\n"
     ]
    }
   ],
   "source": [
    "print(hist.history.keys())"
   ]
  },
  {
   "cell_type": "code",
   "execution_count": 38,
   "metadata": {},
   "outputs": [
    {
     "data": {
      "image/png": "[encoded data removed]",
      "text/plain": [
       "<Figure size 432x288 with 1 Axes>"
      ]
     },
     "metadata": {
      "needs_background": "light"
     },
     "output_type": "display_data"
    }
   ],
   "source": [
    "# summarize history for accuracy\n",
    "import matplotlib.pyplot as plt\n",
    "\n",
    "plt.plot(hist.history['val_loss'])\n",
    "plt.plot(hist.history['val_acc'])\n",
    "plt.title('model accuracy')\n",
    "plt.ylabel('classification accuracy')\n",
    "plt.xlabel('epochs')\n",
    "plt.legend(['train', 'test'], loc='upper left')\n",
    "plt.show()"
   ]
  },
  {
   "cell_type": "code",
   "execution_count": null,
   "metadata": {},
   "outputs": [],
   "source": []
  }
 ],
 "metadata": {
  "kernelspec": {
   "display_name": "Python 3",
   "language": "python",
   "name": "python3"
  },
  "language_info": {
   "codemirror_mode": {
    "name": "ipython",
    "version": 3
   },
   "file_extension": ".py",
   "mimetype": "text/x-python",
   "name": "python",
   "nbconvert_exporter": "python",
   "pygments_lexer": "ipython3",
   "version": "3.6.8"
  }
 },
 "nbformat": 4,
 "nbformat_minor": 1
}
